{
 "cells": [
  {
   "cell_type": "markdown",
   "metadata": {},
   "source": [
    "Из колоды в 52 карты извлекаются случайным образом 4 карты. a) Найти вероятность того, что все карты – крести. б) Найти вероятность, что среди 4-х карт окажется хотя бы один туз."
   ]
  },
  {
   "cell_type": "code",
   "execution_count": 2,
   "metadata": {},
   "outputs": [
    {
     "name": "stdout",
     "output_type": "stream",
     "text": [
      "Вероятность того, что все карты крести: 0.26 %\n"
     ]
    }
   ],
   "source": [
    "hearts = 13\n",
    "diamonds = 13\n",
    "speades = 13 \n",
    "clubs = 13\n",
    "deck = hearts + diamonds + speades + clubs\n",
    "P_clubs_1 = clubs / deck\n",
    "P_clubs_2 = (clubs - 1) / (deck - 1)\n",
    "P_clubs_3 = (clubs - 2) / (deck - 2)\n",
    "P_clubs_4 = (clubs - 3) / (deck - 3)\n",
    "P_4_clubs = round(P_clubs_1 * P_clubs_2 * P_clubs_3 * P_clubs_4, 4)\n",
    "print('Вероятность того, что все карты крести:', P_4_clubs*100 ,'%')"
   ]
  },
  {
   "cell_type": "code",
   "execution_count": 4,
   "metadata": {},
   "outputs": [
    {
     "name": "stdout",
     "output_type": "stream",
     "text": [
      "Вероятность, что из 4-х карт окажется хотя бы один туз: 14.790000000000001 %\n"
     ]
    }
   ],
   "source": [
    "aces = 4\n",
    "P_aces_in_deck = aces / deck\n",
    "P_aces_in_quality = aces / deck\n",
    "P_aces = round((P_aces_in_deck + P_aces_in_quality) - (P_aces_in_deck * P_aces_in_quality), 4)\n",
    "print('Вероятность, что из 4-х карт окажется хотя бы один туз:', P_aces*100 ,'%')"
   ]
  },
  {
   "cell_type": "markdown",
   "metadata": {},
   "source": [
    "На входной двери подъезда установлен кодовый замок, содержащий десять кнопок с цифрами от 0 до 9. Код содержит три цифры, которые нужно нажать одновременно. Какова вероятность того, что человек, не знающий код, откроет дверь с первой попытки?"
   ]
  },
  {
   "cell_type": "code",
   "execution_count": 33,
   "metadata": {},
   "outputs": [
    {
     "name": "stdout",
     "output_type": "stream",
     "text": [
      "Вероятность того, что человек, не знающий код, откроет замок с первой попытки: 0.1 %\n"
     ]
    }
   ],
   "source": [
    "Code = 3\n",
    "Lock = 10\n",
    "#All_combinations = 3 ** 10\n",
    "P_1 = 1 / Lock\n",
    "P_2 = 1 / Lock\n",
    "P_3 = 1 / Lock\n",
    "P_access = round(P_1 * P_2 * P_3, 4)\n",
    "print('Вероятность того, что человек, не знающий код, откроет замок с первой попытки:', P_access*100 ,'%')"
   ]
  },
  {
   "cell_type": "markdown",
   "metadata": {},
   "source": [
    "В ящике имеется 15 деталей, из которых 9 окрашены. Рабочий случайным образом извлекает 3 детали. Какова вероятность того, что все извлеченные детали окрашены?"
   ]
  },
  {
   "cell_type": "code",
   "execution_count": 35,
   "metadata": {},
   "outputs": [
    {
     "name": "stdout",
     "output_type": "stream",
     "text": [
      "Вероятность, что все извлеченные детали окрашены: 18.5 %\n"
     ]
    }
   ],
   "source": [
    "total = 15\n",
    "colored = 9\n",
    "P_1 = colored / total\n",
    "P_2 = (colored - 1) / (total - 1)\n",
    "P_3 = (colored - 2) / (total - 2)\n",
    "P_colored_3 = round(P_1 * P_2 * P_3, 3)\n",
    "print('Вероятность, что все извлеченные детали окрашены:', P_colored_3*100 ,'%')"
   ]
  },
  {
   "cell_type": "markdown",
   "metadata": {},
   "source": [
    "В лотерее 100 билетов. Из них 2 выигрышных. Какова вероятность того, что 2 приобретенных билета окажутся выигрышными?"
   ]
  },
  {
   "cell_type": "code",
   "execution_count": 36,
   "metadata": {},
   "outputs": [
    {
     "name": "stdout",
     "output_type": "stream",
     "text": [
      "Вероятность, что 2 приобретенных билета окажутся выигрышными: 0.04 %\n"
     ]
    }
   ],
   "source": [
    "tickets = 100\n",
    "winner_tikcet = 2\n",
    "P_win = (winner_tikcet / tickets ) * (winner_tikcet / tickets )\n",
    "print('Вероятность, что 2 приобретенных билета окажутся выигрышными:', P_win*100 ,'%')"
   ]
  }
 ],
 "metadata": {
  "kernelspec": {
   "display_name": "Python 3",
   "language": "python",
   "name": "python3"
  },
  "language_info": {
   "codemirror_mode": {
    "name": "ipython",
    "version": 3
   },
   "file_extension": ".py",
   "mimetype": "text/x-python",
   "name": "python",
   "nbconvert_exporter": "python",
   "pygments_lexer": "ipython3",
   "version": "3.7.6"
  }
 },
 "nbformat": 4,
 "nbformat_minor": 4
}
