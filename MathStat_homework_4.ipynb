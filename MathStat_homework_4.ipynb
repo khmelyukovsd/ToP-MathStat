{
 "cells": [
  {
   "cell_type": "markdown",
   "metadata": {},
   "source": [
    "Задача 1\n",
    "\n",
    "О непрерывной равномерно распределённой случайной величине B известно, что её дисперсия равна 0.2. Можно ли найти правую границу величины B и её среднее значение зная, что левая граница равна 0.5? Если да, найдите их."
   ]
  },
  {
   "cell_type": "code",
   "execution_count": 70,
   "metadata": {},
   "outputs": [
    {
     "name": "stdout",
     "output_type": "stream",
     "text": [
      "Правая граница величины В: 1.049\n",
      "Среднее значение величины В: 0.775\n"
     ]
    }
   ],
   "source": [
    "variance = 0.2\n",
    "a = 0.5\n",
    "# variance = (b-a)**2 / 12 , следовательно b**2-b-2.15=0. Решаем уравнение\n",
    "D = 1**2 - 4*1*(-2.15)\n",
    "b_1 = (-1 + D**0.5) / (2 * 1)\n",
    "b_2 = (-1 - D**0.5) / (2 * 1) # не может быть меньше,чем а\n",
    "if b_1 > a:\n",
    "    print(f'Правая граница величины В:',round(b_1, 3))\n",
    "mean = (b_1 + a) / 2\n",
    "print(f'Среднее значение величины В:',round(mean, 3))"
   ]
  },
  {
   "cell_type": "markdown",
   "metadata": {},
   "source": [
    "Задача 2\n",
    "\n",
    "Коробки с шоколадом упаковываются автоматически. Их средняя масса равна 1.06 кг. Известно, что 5% коробок имеют массу, меньшую 1 кг. Найдите: а) среднее квадратическое отклонение массы коробки, б) процент коробок, имеющих массу больше 1.1 кг.\n",
    "\n",
    "Подсказка. Найдите такое значение scale, для которого значение cdf(x=1, loc=1.06, scale=scale) близко к 0.05. Точности 0.0001 будет достаточно"
   ]
  },
  {
   "cell_type": "code",
   "execution_count": null,
   "metadata": {},
   "outputs": [],
   "source": []
  },
  {
   "cell_type": "markdown",
   "metadata": {},
   "source": [
    "Задача 3\n",
    "\n",
    "Коробка содержит 30 конфет. Известно, что масса каждой конфеты распределена равномерно в промежутке от 12 до 14 граммов. Используя центральную предельную теорему, найти вероятность, что масса всей коробки будет: а) меньше 390 граммов, б) больше 395 граммов, в) от 380 до 400 граммов.\n",
    "\n",
    "Массой самой коробки можно пренебречь."
   ]
  },
  {
   "cell_type": "code",
   "execution_count": 66,
   "metadata": {},
   "outputs": [
    {
     "data": {
      "image/png": "[encoded data removed]",
      "text/plain": [
       "<Figure size 432x288 with 1 Axes>"
      ]
     },
     "metadata": {
      "needs_background": "light"
     },
     "output_type": "display_data"
    },
    {
     "name": "stdout",
     "output_type": "stream",
     "text": [
      "Вероятность того, что масса всей коробки будет меньше 390 граммов: 50.62 %\n",
      "Вероятность того, что масса всей коробки будет больше 395 граммов: 5.55 %\n",
      "Вероятность того, что масса всей коробки будет от 380 до 400 граммов: 99.84 %\n"
     ]
    }
   ],
   "source": [
    "import numpy as np\n",
    "import random\n",
    "import matplotlib.pyplot as plt\n",
    "from scipy import stats\n",
    "\n",
    "# Создаем массив из случайных масс коробок конфет\n",
    "box_all = []\n",
    "for i in range(10000):\n",
    "    candy_weight = np.random.uniform(12, 14, 30)\n",
    "    box_weight = candy_weight.sum()\n",
    "    box_all.append(box_weight)\n",
    "box_all\n",
    "\n",
    "# Находим математическое ожидание и СКО\n",
    "mean_box = np.mean(box_all)\n",
    "std_box = np.std(box_all)\n",
    "\n",
    "F1 = (390 - mean_box) / std_box\n",
    "F2 = (395 - mean_box) / std_box\n",
    "F3 = (380 - mean_box) / std_box\n",
    "F4 = (400 - mean_box) / std_box\n",
    "\n",
    "\n",
    "# Строим гистограмму распределения\n",
    "plt.hist(box_all, 100)\n",
    "plt.xlabel('Weight')\n",
    "plt.ylabel('Quantity')\n",
    "plt.title(r'Histogram of box weight')\n",
    "plt.show()\n",
    "\n",
    "# Вычисляем вероятности\n",
    "P_low390 = scipy.stats.norm.cdf(F1)\n",
    "print(f'Вероятность того, что масса всей коробки будет меньше 390 граммов:',round(P_low390 * 100, 2),'%')\n",
    "P_high395 = 1 - scipy.stats.norm.cdf(F2)\n",
    "print(f'Вероятность того, что масса всей коробки будет больше 395 граммов:',round(P_high395 * 100, 2),'%')\n",
    "P_380_400 = scipy.stats.norm.cdf(F4) - scipy.stats.norm.cdf(F3)\n",
    "print(f'Вероятность того, что масса всей коробки будет от 380 до 400 граммов:',round(P_380_400 * 100, 2),'%')"
   ]
  },
  {
   "cell_type": "code",
   "execution_count": null,
   "metadata": {},
   "outputs": [],
   "source": []
  }
 ],
 "metadata": {
  "kernelspec": {
   "display_name": "Python 3",
   "language": "python",
   "name": "python3"
  },
  "language_info": {
   "codemirror_mode": {
    "name": "ipython",
    "version": 3
   },
   "file_extension": ".py",
   "mimetype": "text/x-python",
   "name": "python",
   "nbconvert_exporter": "python",
   "pygments_lexer": "ipython3",
   "version": "3.7.6"
  }
 },
 "nbformat": 4,
 "nbformat_minor": 4
}
