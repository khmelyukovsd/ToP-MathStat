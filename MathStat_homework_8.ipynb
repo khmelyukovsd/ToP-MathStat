{
 "cells": [
  {
   "cell_type": "markdown",
   "metadata": {},
   "source": [
    "Задача 1\n",
    "\n",
    "Объясняемая переменная y зависит от двух категориальных факторов A и B, причём фактор A имеет 3 уровня, а фактор B - 4 уровня. Результаты наблюдений приведены в таблице:\n",
    "\n",
    "y = [[2.68, 3.29, 2.88, 4.45],\n",
    "[4.12, 4.96, 5.09, 5.22],\n",
    "[5.52, 4.50, 5.42, 5.29]]\n",
    "С помощью двухфакторного дисперсионного анализа проверьте влияние каждого из факторов на переменную y.\n",
    "\n"
   ]
  },
  {
   "cell_type": "code",
   "execution_count": 19,
   "metadata": {},
   "outputs": [
    {
     "name": "stdout",
     "output_type": "stream",
     "text": [
      "F-критерий фактора А: 64.354\n",
      "F-критерий фактора В: 29.289\n",
      "критический F-критерий: 6.59\n",
      "Так как F_кр < F_A, то следует считать, что фактор А оказывает влияние на средний результат\n",
      "Так как F_кр < F_B, то следует считать, что фактор B оказывает влияние на средний результат\n"
     ]
    }
   ],
   "source": [
    "import numpy as np\n",
    "\n",
    "y = [[2.68, 3.29, 2.88, 4.45], [4.12, 4.96, 5.09, 5.22], [5.52, 4.50, 5.42, 5.29]]\n",
    "\n",
    "k = 3\n",
    "m = 4\n",
    "y_i = []\n",
    "y_j = []\n",
    "\n",
    "# Расчет сумм квадратов отклонений\n",
    "for i in range(k):\n",
    "    y_i.append(np.mean(y[i]))\n",
    "\n",
    "for j in range(m):\n",
    "    sum = 0\n",
    "    for i in range(k):\n",
    "        sum += y[i][j]\n",
    "    y_j.append(sum / k)\n",
    "\n",
    "Y = (np.sum(y_i) + np.sum(y_j)) / float(len(y_i)+len(y_j))\n",
    "\n",
    "sum_A = 0\n",
    "for i in range(k):\n",
    "    sum_A += (y_i[i] - Y)**2\n",
    "S2_A = sum_A * k \n",
    "\n",
    "sum_B = 0\n",
    "for j in range(m):\n",
    "    sum_B += (y_j[j] - Y)**2\n",
    "S2_B = sum_B * m\n",
    "\n",
    "for i in range(k):\n",
    "    for j in range(m):\n",
    "        S2_AB = (y[i][j] - y_i[i] - y_j[j] + Y)**2\n",
    "\n",
    "# Вычисление дисперсий\n",
    "var_A = S2_A / (m-1)\n",
    "var_B = S2_B / (k-1)\n",
    "var_AB = S2_AB / ((k-1)*(m-1))\n",
    "\n",
    "# Вычисление критериев\n",
    "F_A = var_A / var_AB\n",
    "F_B = var_B / var_AB\n",
    "F_кр = 6.59\n",
    "print(f'F-критерий фактора А:',round(F_A,3))\n",
    "print(f'F-критерий фактора В:',round(F_B,3))\n",
    "print(f'критический F-критерий:',round(F_кр,3))\n",
    "\n",
    "if F_кр < F_A:\n",
    "    print(f'Так как F_кр < F_A, то следует считать, что фактор А оказывает влияние на средний результат')\n",
    "else:\n",
    "    print('Фактор А не оказывает влияние на средний результат')\n",
    "if F_кр < F_B:\n",
    "    print(f'Так как F_кр < F_B, то следует считать, что фактор B оказывает влияние на средний результат')\n",
    "else:\n",
    "    print('Фактор B не оказывает влияние на средний результат')"
   ]
  },
  {
   "cell_type": "markdown",
   "metadata": {},
   "source": [
    "Задача 2\n",
    "\n",
    "Прикрепите ссылку на курсовой проект на github (см. выбор темы в ДЗ к Уроку 6)."
   ]
  },
  {
   "cell_type": "code",
   "execution_count": null,
   "metadata": {},
   "outputs": [],
   "source": []
  },
  {
   "cell_type": "code",
   "execution_count": null,
   "metadata": {},
   "outputs": [],
   "source": []
  },
  {
   "cell_type": "code",
   "execution_count": null,
   "metadata": {},
   "outputs": [],
   "source": []
  }
 ],
 "metadata": {
  "kernelspec": {
   "display_name": "Python 3",
   "language": "python",
   "name": "python3"
  },
  "language_info": {
   "codemirror_mode": {
    "name": "ipython",
    "version": 3
   },
   "file_extension": ".py",
   "mimetype": "text/x-python",
   "name": "python",
   "nbconvert_exporter": "python",
   "pygments_lexer": "ipython3",
   "version": "3.7.6"
  }
 },
 "nbformat": 4,
 "nbformat_minor": 4
}
