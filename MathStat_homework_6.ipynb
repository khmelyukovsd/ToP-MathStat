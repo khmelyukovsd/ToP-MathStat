{
 "cells": [
  {
   "cell_type": "markdown",
   "metadata": {},
   "source": [
    "Задача 1\n",
    "\n",
    "Даны значения величины заработной платы заемщиков банка (salary) и значения их поведенческого кредитного скоринга (scoring):\n",
    "\n",
    "salary = [35, 45, 190, 200, 40, 70, 54, 150, 120, 110]\n",
    "scoring = [401, 574, 874, 919, 459, 739, 653, 902, 746, 832]\n",
    "Используя только встроенные питоновские функции и структуры данных (т.е. без библиотек numpy, pandas и др.) найдите:\n",
    "\n",
    "ковариацию (смещённую и несмещённую) этих двух величин,\n",
    "коэффициент корреляции Пирсона,\n",
    "коэффициент корреляции Кендалла.\n",
    "Можно затем посчитать те же значения с использованием библиотек, чтобы проверить себя."
   ]
  },
  {
   "cell_type": "code",
   "execution_count": 42,
   "metadata": {},
   "outputs": [
    {
     "name": "stdout",
     "output_type": "stream",
     "text": [
      "9157.84\n",
      "10175.378\n",
      "0.887\n"
     ]
    },
    {
     "data": {
      "text/plain": [
       "array([[ 3882.93333333, 10175.37777778],\n",
       "       [10175.37777778, 33854.32222222]])"
      ]
     },
     "execution_count": 42,
     "metadata": {},
     "output_type": "execute_result"
    }
   ],
   "source": [
    "salary = [35, 45, 190, 200, 40, 70, 54, 150, 120, 110]\n",
    "scoring = [401, 574, 874, 919, 459, 739, 653, 902, 746, 832]\n",
    "\n",
    "# функция поиска мат.ожидания\n",
    "def mean(x):\n",
    "    sum_x = 0\n",
    "    for i in range(len(x)):\n",
    "        sum_x += x[i]\n",
    "    return sum_x / len(x)\n",
    "\n",
    "# функция поиска СКО\n",
    "def std(y):\n",
    "    sum_y = 0\n",
    "    for i in range(len(y)):\n",
    "        sum_y += (y[i] - mean(y))**2\n",
    "    return (sum_y / len(y))**0.5\n",
    "\n",
    "# функция поиска смещенной ковариации\n",
    "def cov_dis(a, b):\n",
    "    \n",
    "    if len(a) != len(b):\n",
    "        return\n",
    "\n",
    "    sum = 0\n",
    "    for i in range(0, len(a)):\n",
    "        sum += (a[i] - mean(a)) * (b[i] - mean(b))\n",
    "    return round(sum / len(a), 3)\n",
    "\n",
    "# функция поиска несмещенной ковариации\n",
    "def cov_un(a, b):\n",
    "\n",
    "    if len(a) != len(b):\n",
    "        return\n",
    "    \n",
    "    sum = 0\n",
    "\n",
    "    for i in range(0, len(a)):\n",
    "        sum += (a[i] - mean(a)) * (b[i] - mean(b))\n",
    "\n",
    "    return round(sum / (len(a)-1), 3)\n",
    "\n",
    "# коэффициент корреляции Пирсона\n",
    "r = round(cov_dis(salary, scoring) / (std(salary) * std(scoring)), 3)\n",
    "\n",
    "# коэффициент корреляции Кенделла \n",
    "\n",
    "print(cov_dis(salary, scoring))\n",
    "print(cov_un(salary, scoring))\n",
    "print(r)\n"
   ]
  },
  {
   "cell_type": "markdown",
   "metadata": {},
   "source": [
    "Задача 2\n",
    "\n",
    "Измерены значения IQ выборки студентов, обучающихся в местных технических вузах:\n",
    "\n",
    "131, 125, 115, 122, 131, 115, 107, 99, 125, 111\n",
    "Известно, что в генеральной совокупности IQ распределен нормально. Найдите доверительный интервал для математического ожидания с надежностью 0.99.\n",
    "\n"
   ]
  },
  {
   "cell_type": "code",
   "execution_count": 2,
   "metadata": {},
   "outputs": [
    {
     "name": "stdout",
     "output_type": "stream",
     "text": [
      "Истинное значение величины X:\n",
      " 118.06  < X < 118.14\n"
     ]
    }
   ],
   "source": [
    "import numpy as np\n",
    "from scipy import stats\n",
    "\n",
    "IQ = [131, 125, 115, 122, 131, 115, 107, 99, 125, 111]\n",
    "\n",
    "n = len(IQ)\n",
    "gamma = 0.99\n",
    "M = np.mean(IQ)\n",
    "std = np.var(IQ)**0.5\n",
    "\n",
    "t_p= stats.norm.ppf(1 - gamma / 2) # нормируемая величина\n",
    "E = t_p * std / n**0.5 #  доверительная оценка\n",
    "\n",
    "print(f'Доверительный интервал:\\n', round(M - E, 3),' < X <',round(M + E, 3))"
   ]
  },
  {
   "cell_type": "markdown",
   "metadata": {},
   "source": [
    "Задача 3\n",
    "\n",
    "Выберите тему для проектной работы по курсу Теории вероятностей и математической статистики и напишите ее в комментарии к Практическому заданию."
   ]
  },
  {
   "cell_type": "code",
   "execution_count": null,
   "metadata": {},
   "outputs": [],
   "source": [
    "def cov_dis(a, b):\n",
    "\n",
    "    if len(a) != len(b):\n",
    "        return\n",
    "\n",
    "    sum_a, sum_b = 0, 0\n",
    "    \n",
    "    for i in range(len(a)):\n",
    "        sum_a += a[i]\n",
    "    mean_a = sum_a / len(a)\n",
    "\n",
    "    for i in range(len(b)):\n",
    "        sum_b += b[i]\n",
    "    mean_b = sum_b / len(b)\n",
    "\n",
    "    sum = 0\n",
    "\n",
    "    for i in range(0, len(a)):\n",
    "        sum += ((a[i] - mean_a) * (b[i] - mean_b))\n",
    "\n",
    "    return sum / len(a)"
   ]
  },
  {
   "cell_type": "code",
   "execution_count": null,
   "metadata": {},
   "outputs": [],
   "source": []
  },
  {
   "cell_type": "code",
   "execution_count": null,
   "metadata": {},
   "outputs": [],
   "source": []
  }
 ],
 "metadata": {
  "kernelspec": {
   "display_name": "Python 3",
   "language": "python",
   "name": "python3"
  },
  "language_info": {
   "codemirror_mode": {
    "name": "ipython",
    "version": 3
   },
   "file_extension": ".py",
   "mimetype": "text/x-python",
   "name": "python",
   "nbconvert_exporter": "python",
   "pygments_lexer": "ipython3",
   "version": "3.7.6"
  }
 },
 "nbformat": 4,
 "nbformat_minor": 4
}
