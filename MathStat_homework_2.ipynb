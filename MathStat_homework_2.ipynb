{
 "cells": [
  {
   "cell_type": "markdown",
   "metadata": {},
   "source": [
    "Урок 2. Дискретные случайные величины. Закон распределения вероятностей. Биномиальный закон распределения. Распределение Пуассона"
   ]
  },
  {
   "cell_type": "markdown",
   "metadata": {},
   "source": [
    "1. Вероятность того, что стрелок попадет в мишень, выстрелив один раз, равна 0.8. Стрелок выстрелил 100 раз. Найдите вероятность того, что стрелок попадет в цель ровно 85 раз."
   ]
  },
  {
   "cell_type": "code",
   "execution_count": 1,
   "metadata": {},
   "outputs": [],
   "source": [
    "import numpy as np\n",
    "import math"
   ]
  },
  {
   "cell_type": "code",
   "execution_count": 13,
   "metadata": {},
   "outputs": [
    {
     "data": {
      "text/plain": [
       "0.048"
      ]
     },
     "execution_count": 13,
     "metadata": {},
     "output_type": "execute_result"
    }
   ],
   "source": [
    "# биномиальное распределеине\n",
    "n = 100\n",
    "k = 85\n",
    "p = 0.8\n",
    "p_100 = math.factorial(n) / (math.factorial(k) * math.factorial(n-k)) * p**k * (1-p)**(n-k)\n",
    "round(p_100,3)"
   ]
  },
  {
   "cell_type": "markdown",
   "metadata": {},
   "source": [
    "2. Вероятность того, что лампочка перегорит в течение первого дня эксплуатации, равна 0.0004. В жилом комплексе после ремонта в один день включили 5000 новых лампочек. Какова вероятность, что ни одна из них не перегорит в первый день? Какова вероятность, что перегорят ровно две?"
   ]
  },
  {
   "cell_type": "code",
   "execution_count": 17,
   "metadata": {},
   "outputs": [
    {
     "name": "stdout",
     "output_type": "stream",
     "text": [
      "Вероятность того, что ни одна лампочка не перегорит: 0.135\n",
      "Вероятность того, что перегорит ровно две лампочки: 0.271\n"
     ]
    }
   ],
   "source": [
    "n = 5000\n",
    "p = 0.0004\n",
    "lambda_ = n * p # интенсивность перегорания\n",
    "m1 = 0 # ни одна не перегорит\n",
    "m2 = 2 # перегорит ровно две\n",
    "p_0 = (lambda_**m1 / np.math.factorial(m1)) * np.exp(-lambda_)\n",
    "p_2 = (lambda_**m2 / np.math.factorial(m2)) * np.exp(-lambda_)\n",
    "print(f'Вероятность того, что ни одна лампочка не перегорит:',round(p_0,3))\n",
    "print(f'Вероятность того, что перегорит ровно две лампочки:',round(p_2,3))"
   ]
  },
  {
   "cell_type": "markdown",
   "metadata": {},
   "source": [
    "3. Монету подбросили 144 раза. Какова вероятность, что орел выпадет ровно 70 раз?"
   ]
  },
  {
   "cell_type": "code",
   "execution_count": 18,
   "metadata": {},
   "outputs": [
    {
     "data": {
      "text/plain": [
       "0.063"
      ]
     },
     "execution_count": 18,
     "metadata": {},
     "output_type": "execute_result"
    }
   ],
   "source": [
    "# биномиальное распределеине\n",
    "n = 144\n",
    "k = 70\n",
    "p = 0.5\n",
    "q = 1 - p\n",
    "p_k = math.factorial(n) / (math.factorial(k) * math.factorial(n-k)) * p**k * q**(n-k)\n",
    "round(p_k,3)"
   ]
  },
  {
   "cell_type": "markdown",
   "metadata": {},
   "source": [
    "4. В первом ящике находится 10 мячей, из которых 7 - белые. Во втором ящике - 11 мячей, из которых 9 белых. Из каждого ящика вытаскивают случайным образом по два мяча. Какова вероятность того, что все мячи белые? Какова вероятность того, что ровно два мяча белые? Какова вероятность того, что хотя бы один мяч белый?"
   ]
  },
  {
   "cell_type": "code",
   "execution_count": 12,
   "metadata": {},
   "outputs": [
    {
     "name": "stdout",
     "output_type": "stream",
     "text": [
      "0.3054545454545454\n",
      "0.0903030303030303\n",
      "0.9987878787878788\n"
     ]
    }
   ],
   "source": [
    "p_1 = (7/10)*(6/9)*(9/11)*(8/10) # вероятность того, что все мячи белые\n",
    "p_2 = (7/10)*(6/9)*(2/11)*(1/10) + (7/10)*(3/9)*(9/11)*(2/10) + (3/10)*(2/9)*(9/11)*(8/10) # вероятность того, что ровно два мяча белые\n",
    "p_3 = 1 - (3/10)*(2/9)*(2/11)*(1/10) # вероятность того, что хотя бы один мяч белый\n",
    "print(f'Вероятность того, что все мячи белые:',p_1)\n",
    "print(f'Вероятность того, что ровно два мяча белые:',p_2)\n",
    "print(f'Вероятность того, что хотя бы один мяч белый:',p_3)"
   ]
  }
 ],
 "metadata": {
  "kernelspec": {
   "display_name": "Python 3",
   "language": "python",
   "name": "python3"
  },
  "language_info": {
   "codemirror_mode": {
    "name": "ipython",
    "version": 3
   },
   "file_extension": ".py",
   "mimetype": "text/x-python",
   "name": "python",
   "nbconvert_exporter": "python",
   "pygments_lexer": "ipython3",
   "version": "3.7.6"
  }
 },
 "nbformat": 4,
 "nbformat_minor": 4
}
